{
  "nbformat": 4,
  "nbformat_minor": 0,
  "metadata": {
    "colab": {
      "provenance": [],
      "authorship_tag": "ABX9TyPbrqNe4MnDdcFWRbmiqQRW",
      "include_colab_link": true
    },
    "kernelspec": {
      "name": "python3",
      "display_name": "Python 3"
    },
    "language_info": {
      "name": "python"
    }
  },
  "cells": [
    {
      "cell_type": "markdown",
      "metadata": {
        "id": "view-in-github",
        "colab_type": "text"
      },
      "source": [
        "<a href=\"https://colab.research.google.com/github/Hareesh1998/MachineLearning/blob/main/Untitled0.ipynb\" target=\"_parent\"><img src=\"https://colab.research.google.com/assets/colab-badge.svg\" alt=\"Open In Colab\"/></a>"
      ]
    },
    {
      "cell_type": "code",
      "execution_count": null,
      "metadata": {
        "colab": {
          "base_uri": "https://localhost:8080/"
        },
        "id": "f5XHy9wgTNv1",
        "outputId": "92652414-6c32-4697-8411-b5f4e68367a0"
      },
      "outputs": [
        {
          "output_type": "stream",
          "name": "stdout",
          "text": [
            "{'HR': ['Alice', 'David'], 'IT': ['Bob', 'Charlie']}\n"
          ]
        }
      ],
      "source": [
        "from collections import defaultdict\n",
        "from os import name\n",
        "Employees = [\n",
        "    {'name' : 'Alice', 'department' : 'HR'},\n",
        "    {'name' : 'Bob', 'department' : 'IT'},\n",
        "    {'name' : 'Charlie', 'department' : 'IT'},\n",
        "    {'name' : 'David', 'department' : 'HR'}\n",
        "]\n",
        "\n",
        "grouped = {}\n",
        "for Employee in Employees:\n",
        "  grouped.setdefault(Employee['department'], []).append(Employee['name'])\n",
        "print(grouped)\n",
        "\n",
        "#{'HR': ['Alice', 'David'], 'IT': ['Bob', 'Charlie']}"
      ]
    },
    {
      "cell_type": "code",
      "source": [
        "year = int(input(\"enter the year: \"))\n",
        "if year > 0:\n",
        "  print(\"You have Entered: \",year)\n",
        "  if year % 4 == 0:\n",
        "    print(\"This \", year, \"you have entered is a Leap Year\")\n",
        "  else:\n",
        "    print(\"This \", year, \"You have entered is not a Leap Year\")\n",
        "else:\n",
        "  print(\"Incorrect Year information\")"
      ],
      "metadata": {
        "colab": {
          "base_uri": "https://localhost:8080/"
        },
        "id": "MO0j8r9hx_dv",
        "outputId": "2bdd5e7f-5028-43b1-af77-73cd00e1b76f"
      },
      "execution_count": 6,
      "outputs": [
        {
          "output_type": "stream",
          "name": "stdout",
          "text": [
            "enter the year: -2025\n",
            "Incorrect Year information\n"
          ]
        }
      ]
    },
    {
      "cell_type": "markdown",
      "source": [
        "##Fibanocci Series"
      ],
      "metadata": {
        "id": "GLMJEju849jy"
      }
    },
    {
      "cell_type": "code",
      "source": [
        "n = int(input(\"number of terms: \"))\n",
        "n1 = 0\n",
        "n2 = 1\n",
        "count = 0\n",
        "\n",
        "if n < 0:\n",
        "  print(\"enter positive number\")\n",
        "elif n == 0:\n",
        "  print(\"enter a number greater than 0\")\n",
        "else :\n",
        "  while count < n:\n",
        "    print(n1)\n",
        "    nth = n1 + n2\n",
        "    n1 = n2\n",
        "    n2 = nth\n",
        "    count += 1\n",
        ""
      ],
      "metadata": {
        "colab": {
          "base_uri": "https://localhost:8080/"
        },
        "id": "pIt_Zxf648gF",
        "outputId": "5b000b1f-4569-43ec-cfcc-19ad53dd25db"
      },
      "execution_count": 56,
      "outputs": [
        {
          "output_type": "stream",
          "name": "stdout",
          "text": [
            "number of terms: 10\n",
            "0\n",
            "1\n",
            "1\n",
            "2\n",
            "3\n",
            "5\n",
            "8\n",
            "13\n",
            "21\n",
            "34\n"
          ]
        }
      ]
    },
    {
      "cell_type": "code",
      "source": [
        "a = 0\n",
        "b = 1\n",
        "\n",
        "for i in range (10):\n",
        "  print(a)\n",
        "  c = a + b\n",
        "  a = b\n",
        "  b = c\n"
      ],
      "metadata": {
        "colab": {
          "base_uri": "https://localhost:8080/"
        },
        "id": "4sXlL0NiF1Od",
        "outputId": "d48fab2a-e1ef-488b-c705-82da661f7381"
      },
      "execution_count": 61,
      "outputs": [
        {
          "output_type": "stream",
          "name": "stdout",
          "text": [
            "0\n",
            "1\n",
            "1\n",
            "2\n",
            "3\n",
            "5\n",
            "8\n",
            "13\n",
            "21\n",
            "34\n"
          ]
        }
      ]
    },
    {
      "cell_type": "code",
      "source": [
        "cur_sal = float(input(\"enter your Salary: \"))\n",
        "rating = float(input(\"enter the performance Rating: \"))\n",
        "noofyears = float(input(\"no of years you are working: \"))\n",
        "\n",
        "if rating >= 4.5:\n",
        "  if noofyears > 10:\n",
        "    print(\"you receive 20% bonus which is:\", cur_sal*(20/100), \"and your salary would be: \", cur_sal + (cur_sal*(20/100)))\n",
        "  elif 10 >= noofyears > 5:\n",
        "    print(\"you receive 15% bonus which is:\", cur_sal*(15/100), \"and your salary would be: \", cur_sal + (cur_sal*(15/100)))\n",
        "  else:\n",
        "    print(\"you receive 10% bonus which is:\", cur_sal*(10/100), \"and your salary would be: \", cur_sal + (cur_sal*(10/100)))\n",
        "\n",
        "elif 4.5 > rating >= 3.5:\n",
        "  if noofyears > 10:\n",
        "    print(\"you receive 15% bonus which is:\", cur_sal*(15/100), \"and your salary would be: \", cur_sal + (cur_sal*(15/100)))\n",
        "  if 10 >= noofyears > 5:\n",
        "    print(\"you receive 10% bonus which is:\", cur_sal*(10/100), \"and your salary would be: \", cur_sal + (cur_sal*(10/100)))\n",
        "  else:\n",
        "    print(\"you receive 5% bonus which is:\", cur_sal*(5/100), \"and your salary would be: \", cur_sal + (cur_sal*(5/100)))\n",
        "\n",
        "else:\n",
        "  print(\"you receive no bonus and you salary is same which is: \", cur_sal)"
      ],
      "metadata": {
        "colab": {
          "base_uri": "https://localhost:8080/"
        },
        "id": "nU_7K1TsBfK7",
        "outputId": "7e4791aa-9e05-4cf2-c07a-d05364226e81"
      },
      "execution_count": 67,
      "outputs": [
        {
          "output_type": "stream",
          "name": "stdout",
          "text": [
            "enter your Salary: 1000000\n",
            "enter the performance Rating: 4.5\n",
            "no of years you are working: 10\n",
            "you receive 10% bonus which is: 100000.0 and your salary would be:  1100000.0\n"
          ]
        }
      ]
    }
  ]
}